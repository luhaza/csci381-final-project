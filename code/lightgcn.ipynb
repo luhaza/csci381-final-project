{
 "cells": [
  {
   "cell_type": "markdown",
   "metadata": {},
   "source": [
    "__Imports__"
   ]
  },
  {
   "cell_type": "code",
   "execution_count": 1,
   "metadata": {},
   "outputs": [],
   "source": [
    "import torch\n",
    "import pandas as pd\n",
    "import random\n",
    "\n",
    "from tqdm import tqdm\n",
    "from torch.utils.data import random_split\n",
    "from torch import Generator\n",
    "from torch import optim\n",
    "from model import LightGCN, train_model\n",
    "from sklearn import preprocessing\n",
    "from torch_sparse import SparseTensor\n",
    "from preprocessing import dataset, init_interaction_edges"
   ]
  },
  {
   "cell_type": "markdown",
   "metadata": {},
   "source": [
    "* There are 610 users and 9724 movies in this dataset. \n",
    "* On average, users give a movie a 3.5/5 rating."
   ]
  },
  {
   "cell_type": "code",
   "execution_count": 2,
   "metadata": {},
   "outputs": [
    {
     "data": {
      "text/html": [
       "<div>\n",
       "<style scoped>\n",
       "    .dataframe tbody tr th:only-of-type {\n",
       "        vertical-align: middle;\n",
       "    }\n",
       "\n",
       "    .dataframe tbody tr th {\n",
       "        vertical-align: top;\n",
       "    }\n",
       "\n",
       "    .dataframe thead th {\n",
       "        text-align: right;\n",
       "    }\n",
       "</style>\n",
       "<table border=\"1\" class=\"dataframe\">\n",
       "  <thead>\n",
       "    <tr style=\"text-align: right;\">\n",
       "      <th></th>\n",
       "      <th>userId</th>\n",
       "      <th>movieId</th>\n",
       "      <th>rating</th>\n",
       "      <th>timestamp</th>\n",
       "    </tr>\n",
       "  </thead>\n",
       "  <tbody>\n",
       "    <tr>\n",
       "      <th>count</th>\n",
       "      <td>100836.000000</td>\n",
       "      <td>100836.000000</td>\n",
       "      <td>100836.000000</td>\n",
       "      <td>1.008360e+05</td>\n",
       "    </tr>\n",
       "    <tr>\n",
       "      <th>mean</th>\n",
       "      <td>325.127564</td>\n",
       "      <td>3101.735561</td>\n",
       "      <td>3.501557</td>\n",
       "      <td>1.205946e+09</td>\n",
       "    </tr>\n",
       "    <tr>\n",
       "      <th>std</th>\n",
       "      <td>182.618491</td>\n",
       "      <td>2627.050983</td>\n",
       "      <td>1.042529</td>\n",
       "      <td>2.162610e+08</td>\n",
       "    </tr>\n",
       "    <tr>\n",
       "      <th>min</th>\n",
       "      <td>0.000000</td>\n",
       "      <td>0.000000</td>\n",
       "      <td>0.500000</td>\n",
       "      <td>8.281246e+08</td>\n",
       "    </tr>\n",
       "    <tr>\n",
       "      <th>25%</th>\n",
       "      <td>176.000000</td>\n",
       "      <td>900.000000</td>\n",
       "      <td>3.000000</td>\n",
       "      <td>1.019124e+09</td>\n",
       "    </tr>\n",
       "    <tr>\n",
       "      <th>50%</th>\n",
       "      <td>324.000000</td>\n",
       "      <td>2252.000000</td>\n",
       "      <td>3.500000</td>\n",
       "      <td>1.186087e+09</td>\n",
       "    </tr>\n",
       "    <tr>\n",
       "      <th>75%</th>\n",
       "      <td>476.000000</td>\n",
       "      <td>5095.250000</td>\n",
       "      <td>4.000000</td>\n",
       "      <td>1.435994e+09</td>\n",
       "    </tr>\n",
       "    <tr>\n",
       "      <th>max</th>\n",
       "      <td>609.000000</td>\n",
       "      <td>9723.000000</td>\n",
       "      <td>5.000000</td>\n",
       "      <td>1.537799e+09</td>\n",
       "    </tr>\n",
       "  </tbody>\n",
       "</table>\n",
       "</div>"
      ],
      "text/plain": [
       "              userId        movieId         rating     timestamp\n",
       "count  100836.000000  100836.000000  100836.000000  1.008360e+05\n",
       "mean      325.127564    3101.735561       3.501557  1.205946e+09\n",
       "std       182.618491    2627.050983       1.042529  2.162610e+08\n",
       "min         0.000000       0.000000       0.500000  8.281246e+08\n",
       "25%       176.000000     900.000000       3.000000  1.019124e+09\n",
       "50%       324.000000    2252.000000       3.500000  1.186087e+09\n",
       "75%       476.000000    5095.250000       4.000000  1.435994e+09\n",
       "max       609.000000    9723.000000       5.000000  1.537799e+09"
      ]
     },
     "execution_count": 2,
     "metadata": {},
     "output_type": "execute_result"
    }
   ],
   "source": [
    "dataset.describe()"
   ]
  },
  {
   "cell_type": "code",
   "execution_count": 3,
   "metadata": {},
   "outputs": [
    {
     "name": "stdout",
     "output_type": "stream",
     "text": [
      "users: 610, movies: 9724\n"
     ]
    },
    {
     "data": {
      "text/html": [
       "<div>\n",
       "<style scoped>\n",
       "    .dataframe tbody tr th:only-of-type {\n",
       "        vertical-align: middle;\n",
       "    }\n",
       "\n",
       "    .dataframe tbody tr th {\n",
       "        vertical-align: top;\n",
       "    }\n",
       "\n",
       "    .dataframe thead th {\n",
       "        text-align: right;\n",
       "    }\n",
       "</style>\n",
       "<table border=\"1\" class=\"dataframe\">\n",
       "  <thead>\n",
       "    <tr style=\"text-align: right;\">\n",
       "      <th></th>\n",
       "      <th>userId</th>\n",
       "      <th>movieId</th>\n",
       "      <th>rating</th>\n",
       "      <th>timestamp</th>\n",
       "    </tr>\n",
       "  </thead>\n",
       "  <tbody>\n",
       "    <tr>\n",
       "      <th>count</th>\n",
       "      <td>61716.000000</td>\n",
       "      <td>61716.000000</td>\n",
       "      <td>61716.000000</td>\n",
       "      <td>6.171600e+04</td>\n",
       "    </tr>\n",
       "    <tr>\n",
       "      <th>mean</th>\n",
       "      <td>319.869272</td>\n",
       "      <td>3193.682513</td>\n",
       "      <td>4.176915</td>\n",
       "      <td>1.219983e+09</td>\n",
       "    </tr>\n",
       "    <tr>\n",
       "      <th>std</th>\n",
       "      <td>181.559840</td>\n",
       "      <td>2664.966697</td>\n",
       "      <td>0.520208</td>\n",
       "      <td>2.096659e+08</td>\n",
       "    </tr>\n",
       "    <tr>\n",
       "      <th>min</th>\n",
       "      <td>0.000000</td>\n",
       "      <td>0.000000</td>\n",
       "      <td>3.500000</td>\n",
       "      <td>8.281246e+08</td>\n",
       "    </tr>\n",
       "    <tr>\n",
       "      <th>25%</th>\n",
       "      <td>168.000000</td>\n",
       "      <td>910.000000</td>\n",
       "      <td>4.000000</td>\n",
       "      <td>1.047054e+09</td>\n",
       "    </tr>\n",
       "    <tr>\n",
       "      <th>50%</th>\n",
       "      <td>317.000000</td>\n",
       "      <td>2335.000000</td>\n",
       "      <td>4.000000</td>\n",
       "      <td>1.201160e+09</td>\n",
       "    </tr>\n",
       "    <tr>\n",
       "      <th>75%</th>\n",
       "      <td>473.000000</td>\n",
       "      <td>5309.000000</td>\n",
       "      <td>4.500000</td>\n",
       "      <td>1.436944e+09</td>\n",
       "    </tr>\n",
       "    <tr>\n",
       "      <th>max</th>\n",
       "      <td>609.000000</td>\n",
       "      <td>9723.000000</td>\n",
       "      <td>5.000000</td>\n",
       "      <td>1.537799e+09</td>\n",
       "    </tr>\n",
       "  </tbody>\n",
       "</table>\n",
       "</div>"
      ],
      "text/plain": [
       "             userId       movieId        rating     timestamp\n",
       "count  61716.000000  61716.000000  61716.000000  6.171600e+04\n",
       "mean     319.869272   3193.682513      4.176915  1.219983e+09\n",
       "std      181.559840   2664.966697      0.520208  2.096659e+08\n",
       "min        0.000000      0.000000      3.500000  8.281246e+08\n",
       "25%      168.000000    910.000000      4.000000  1.047054e+09\n",
       "50%      317.000000   2335.000000      4.000000  1.201160e+09\n",
       "75%      473.000000   5309.000000      4.500000  1.436944e+09\n",
       "max      609.000000   9723.000000      5.000000  1.537799e+09"
      ]
     },
     "execution_count": 3,
     "metadata": {},
     "output_type": "execute_result"
    }
   ],
   "source": [
    "threshold = 3.5\n",
    "dataset_above_thresh = dataset[dataset[\"rating\"] >= threshold]\n",
    "num_users = len(dataset[\"userId\"].unique())\n",
    "num_movies = len(dataset[\"movieId\"].unique())\n",
    "\n",
    "print(f\"users: {num_users}, movies: {num_movies}\")\n",
    "dataset_above_thresh.describe()"
   ]
  },
  {
   "cell_type": "markdown",
   "metadata": {},
   "source": [
    "__Create the graph__"
   ]
  },
  {
   "cell_type": "code",
   "execution_count": 4,
   "metadata": {},
   "outputs": [
    {
     "name": "stdout",
     "output_type": "stream",
     "text": [
      "tensor([[   0,    0,    0,  ...,  609,  609,  609],\n",
      "        [   0,    2,    5,  ..., 9443, 9444, 9445]]) torch.Size([2, 61716])\n",
      "tensor([4., 4., 4.,  ..., 5., 5., 5.], dtype=torch.float64) torch.Size([61716])\n",
      "tensor(3.5000, dtype=torch.float64)\n"
     ]
    }
   ],
   "source": [
    "locations, values = init_interaction_edges(dataset, \"userId\", \"movieId\", \"rating\", threshold)\n",
    "\n",
    "print(locations, locations.size())\n",
    "print(values, values.size())\n",
    "print(values.min())"
   ]
  },
  {
   "cell_type": "code",
   "execution_count": 5,
   "metadata": {},
   "outputs": [
    {
     "name": "stdout",
     "output_type": "stream",
     "text": [
      "edges: 61716, nodes: 10334\n"
     ]
    }
   ],
   "source": [
    "num_interactions = values.shape[0]\n",
    "\n",
    "print(f\"edges: {num_interactions}, nodes: {num_movies+num_users}\")"
   ]
  },
  {
   "cell_type": "markdown",
   "metadata": {},
   "source": [
    "__Split into test and train sets__"
   ]
  },
  {
   "cell_type": "code",
   "execution_count": 6,
   "metadata": {},
   "outputs": [
    {
     "name": "stdout",
     "output_type": "stream",
     "text": [
      "train: 49373 interactions\n",
      "test: 12343 interactions\n",
      "True\n"
     ]
    }
   ],
   "source": [
    "indices = list(range(num_interactions))\n",
    "\n",
    "generator = Generator().manual_seed(42)\n",
    "train_set_split, test_set_split = random_split(indices, [0.8, 0.2], generator=generator)\n",
    "\n",
    "print(f\"train: {len(train_set_split)} interactions\")\n",
    "print(f\"test: {len(test_set_split)} interactions\")\n",
    "print((num_interactions) == (len(train_set_split) + len(test_set_split)))"
   ]
  },
  {
   "cell_type": "code",
   "execution_count": 7,
   "metadata": {},
   "outputs": [
    {
     "name": "stdout",
     "output_type": "stream",
     "text": [
      "tensor([[ 102,  181,  433,  ...,  181,  205,  338],\n",
      "        [6706, 1791, 1157,  ..., 1059,  115, 6241]]) torch.Size([2, 49373])\n",
      "tensor([3.5000, 4.5000, 5.0000,  ..., 4.0000, 4.0000, 5.0000],\n",
      "       dtype=torch.float64) torch.Size([49373])\n"
     ]
    }
   ],
   "source": [
    "train_indices = locations[:, train_set_split]\n",
    "train_values = values[train_set_split]\n",
    "\n",
    "test_indices = locations[:, test_set_split]\n",
    "test_values = values[test_set_split]\n",
    "\n",
    "print(train_indices, train_indices.size())\n",
    "print(train_values, train_values.size())"
   ]
  },
  {
   "cell_type": "markdown",
   "metadata": {},
   "source": [
    "__Train the model__"
   ]
  },
  {
   "cell_type": "code",
   "execution_count": 8,
   "metadata": {},
   "outputs": [],
   "source": [
    "ITERATIONS = 10000\n",
    "EPOCHS = 10\n",
    "BATCH_SIZE = 1024\n",
    "LR = 1e-3\n",
    "ITERS_PER_EVAL = 200\n",
    "ITERS_PER_LR_DECAY = 200\n",
    "K = 10\n",
    "LAMBDA = 1e-6"
   ]
  },
  {
   "cell_type": "code",
   "execution_count": 9,
   "metadata": {},
   "outputs": [
    {
     "name": "stdout",
     "output_type": "stream",
     "text": [
      "Using cpu.\n"
     ]
    },
    {
     "data": {
      "text/plain": [
       "tensor([[ 102,  181,  433,  ...,  181,  205,  338],\n",
       "        [6706, 1791, 1157,  ..., 1059,  115, 6241]])"
      ]
     },
     "execution_count": 9,
     "metadata": {},
     "output_type": "execute_result"
    }
   ],
   "source": [
    "model = LightGCN(610, 9724)\n",
    "\n",
    "device = torch.device('cuda' if torch.cuda.is_available() else 'cpu')\n",
    "print(f\"Using {device}.\")\n",
    "\n",
    "model = model.to(device)\n",
    "model.train()\n",
    "\n",
    "optimizer = optim.Adam(model.parameters(), lr=LR, weight_decay=0.01)\n",
    "scheduler = optim.lr_scheduler.ExponentialLR(optimizer, gamma=0.95)\n",
    "\n",
    "locations = locations.to(device)\n",
    "train_indices = train_indices.to(device)\n",
    "train_set_sparse = SparseTensor(row=train_indices[0], col=train_indices[1], sparse_sizes=(10334, 10334))\n",
    "train_indices"
   ]
  },
  {
   "cell_type": "code",
   "execution_count": 10,
   "metadata": {},
   "outputs": [
    {
     "name": "stderr",
     "output_type": "stream",
     "text": [
      "  0%|          | 0/10000 [00:00<?, ?it/s]"
     ]
    },
    {
     "name": "stderr",
     "output_type": "stream",
     "text": [
      "100%|██████████| 10000/10000 [09:29<00:00, 17.57it/s]\n"
     ]
    }
   ],
   "source": [
    "train_model(model, device, optimizer, scheduler, train_indices, train_set_sparse)"
   ]
  },
  {
   "cell_type": "code",
   "execution_count": 23,
   "metadata": {},
   "outputs": [
    {
     "name": "stdout",
     "output_type": "stream",
     "text": [
      "User 237 likes:\n",
      "1. Man with the Golden Arm, The (1955), Drama\n",
      "2. Last Temptation of Christ, The (1988), Drama\n",
      "3. Out of the Past (1947), Film-Noir\n",
      "4. Fried Green Tomatoes (1991), Comedy|Crime|Drama\n",
      "5. Lord of the Flies (1990), Adventure|Drama|Thriller\n",
      "\n",
      "User 237 may like:\n",
      "1. Turbo Kid (2015), Action|Adventure|Sci-Fi\n",
      "2. Pollock (2000), Drama\n",
      "3. Jumper (2008), Action|Adventure|Drama|Sci-Fi|Thriller\n",
      "4. JCVD (2008), Action|Drama|Thriller\n",
      "5. Nosferatu (Nosferatu, eine Symphonie des Grauens) (1922), Horror\n",
      "6. Searching for Sugar Man (2012), Documentary\n",
      "7. Celtic Pride (1996), Comedy\n",
      "8. Leap of Faith (1992), Comedy|Drama\n"
     ]
    }
   ],
   "source": [
    "movies = pd.read_csv(\"../data/movies/raw/movies.csv\")\n",
    "movie_ids = preprocessing.LabelEncoder()\n",
    "\n",
    "movies.movieId = movie_ids.fit_transform(movies.movieId.values)\n",
    "\n",
    "def predict(model, id, num):\n",
    "    user_movies = dataset[dataset[\"userId\"] == id]\n",
    "    movie_ids = user_movies[[\"movieId\", \"rating\"]].sort_values(by=\"rating\", ascending=False).head(num)\n",
    "    user_emb = model.users_emb.weight[id]\n",
    "    scores = model.items_emb.weight @ user_emb\n",
    "\n",
    "    _, topk = torch.topk(scores, k=len(movie_ids)+3)\n",
    "\n",
    "    id_list = movie_ids[\"movieId\"].to_list()\n",
    "\n",
    "    print(f\"User {id} likes:\")\n",
    "    for i, movie in enumerate(id_list):\n",
    "        title = movies.at[movie, \"title\"]\n",
    "        genres = movies.at[movie, \"genres\"]\n",
    "        blurb = f\"{i+1}. {title}, {genres}\"\n",
    "        print(blurb)\n",
    "\n",
    "    print(f\"\\nUser {id} may like:\")\n",
    "    for i, movie in enumerate(topk):\n",
    "        movie = movie.item()\n",
    "        title = movies.at[movie, \"title\"]\n",
    "        genres = movies.at[movie, \"genres\"]\n",
    "        blurb = f\"{i+1}. {title}, {genres}\"\n",
    "        print(blurb)\n",
    "\n",
    "id = random.randint(0, 610)\n",
    "\n",
    "predict(model, id, 5)"
   ]
  }
 ],
 "metadata": {
  "kernelspec": {
   "display_name": "Python 3",
   "language": "python",
   "name": "python3"
  },
  "language_info": {
   "codemirror_mode": {
    "name": "ipython",
    "version": 3
   },
   "file_extension": ".py",
   "mimetype": "text/x-python",
   "name": "python",
   "nbconvert_exporter": "python",
   "pygments_lexer": "ipython3",
   "version": "3.11.6"
  }
 },
 "nbformat": 4,
 "nbformat_minor": 2
}
