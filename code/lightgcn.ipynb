{
 "cells": [
  {
   "cell_type": "markdown",
   "metadata": {},
   "source": [
    "__Imports__"
   ]
  },
  {
   "cell_type": "code",
   "execution_count": 10,
   "metadata": {},
   "outputs": [],
   "source": [
    "import torch\n",
    "import torch_geometric\n",
    "\n",
    "from torch.utils.data import random_split\n",
    "from torch import Generator\n",
    "from torch_geometric.nn.conv.gcn_conv import gcn_norm\n",
    "from model import LightGCN\n",
    "from representations import build_interaction_matrix_from_edges, convert_to_adj_matrix, convert_to_dense_adj_matrix, extract_interaction_matrix\n",
    "from preprocessing import dataset, init_interaction_edges"
   ]
  },
  {
   "cell_type": "markdown",
   "metadata": {},
   "source": [
    "* There are 610 users and 9724 movies in this dataset. \n",
    "* On average, users give a movie a 3.5/5 rating."
   ]
  },
  {
   "cell_type": "code",
   "execution_count": 2,
   "metadata": {},
   "outputs": [
    {
     "data": {
      "text/html": [
       "<div>\n",
       "<style scoped>\n",
       "    .dataframe tbody tr th:only-of-type {\n",
       "        vertical-align: middle;\n",
       "    }\n",
       "\n",
       "    .dataframe tbody tr th {\n",
       "        vertical-align: top;\n",
       "    }\n",
       "\n",
       "    .dataframe thead th {\n",
       "        text-align: right;\n",
       "    }\n",
       "</style>\n",
       "<table border=\"1\" class=\"dataframe\">\n",
       "  <thead>\n",
       "    <tr style=\"text-align: right;\">\n",
       "      <th></th>\n",
       "      <th>userId</th>\n",
       "      <th>movieId</th>\n",
       "      <th>rating</th>\n",
       "      <th>timestamp</th>\n",
       "    </tr>\n",
       "  </thead>\n",
       "  <tbody>\n",
       "    <tr>\n",
       "      <th>count</th>\n",
       "      <td>100836.000000</td>\n",
       "      <td>100836.000000</td>\n",
       "      <td>100836.000000</td>\n",
       "      <td>1.008360e+05</td>\n",
       "    </tr>\n",
       "    <tr>\n",
       "      <th>mean</th>\n",
       "      <td>325.127564</td>\n",
       "      <td>3101.735561</td>\n",
       "      <td>3.501557</td>\n",
       "      <td>1.205946e+09</td>\n",
       "    </tr>\n",
       "    <tr>\n",
       "      <th>std</th>\n",
       "      <td>182.618491</td>\n",
       "      <td>2627.050983</td>\n",
       "      <td>1.042529</td>\n",
       "      <td>2.162610e+08</td>\n",
       "    </tr>\n",
       "    <tr>\n",
       "      <th>min</th>\n",
       "      <td>0.000000</td>\n",
       "      <td>0.000000</td>\n",
       "      <td>0.500000</td>\n",
       "      <td>8.281246e+08</td>\n",
       "    </tr>\n",
       "    <tr>\n",
       "      <th>25%</th>\n",
       "      <td>176.000000</td>\n",
       "      <td>900.000000</td>\n",
       "      <td>3.000000</td>\n",
       "      <td>1.019124e+09</td>\n",
       "    </tr>\n",
       "    <tr>\n",
       "      <th>50%</th>\n",
       "      <td>324.000000</td>\n",
       "      <td>2252.000000</td>\n",
       "      <td>3.500000</td>\n",
       "      <td>1.186087e+09</td>\n",
       "    </tr>\n",
       "    <tr>\n",
       "      <th>75%</th>\n",
       "      <td>476.000000</td>\n",
       "      <td>5095.250000</td>\n",
       "      <td>4.000000</td>\n",
       "      <td>1.435994e+09</td>\n",
       "    </tr>\n",
       "    <tr>\n",
       "      <th>max</th>\n",
       "      <td>609.000000</td>\n",
       "      <td>9723.000000</td>\n",
       "      <td>5.000000</td>\n",
       "      <td>1.537799e+09</td>\n",
       "    </tr>\n",
       "  </tbody>\n",
       "</table>\n",
       "</div>"
      ],
      "text/plain": [
       "              userId        movieId         rating     timestamp\n",
       "count  100836.000000  100836.000000  100836.000000  1.008360e+05\n",
       "mean      325.127564    3101.735561       3.501557  1.205946e+09\n",
       "std       182.618491    2627.050983       1.042529  2.162610e+08\n",
       "min         0.000000       0.000000       0.500000  8.281246e+08\n",
       "25%       176.000000     900.000000       3.000000  1.019124e+09\n",
       "50%       324.000000    2252.000000       3.500000  1.186087e+09\n",
       "75%       476.000000    5095.250000       4.000000  1.435994e+09\n",
       "max       609.000000    9723.000000       5.000000  1.537799e+09"
      ]
     },
     "execution_count": 2,
     "metadata": {},
     "output_type": "execute_result"
    }
   ],
   "source": [
    "dataset.describe()"
   ]
  },
  {
   "cell_type": "markdown",
   "metadata": {},
   "source": [
    "__Create the graph__"
   ]
  },
  {
   "cell_type": "code",
   "execution_count": 3,
   "metadata": {},
   "outputs": [
    {
     "name": "stdout",
     "output_type": "stream",
     "text": [
      "tensor([[   0,    0,    0,  ...,  609,  609,  609],\n",
      "        [   0,    2,    5,  ..., 9444, 9445, 9485]]) torch.Size([2, 99466])\n",
      "tensor([4., 4., 4.,  ..., 5., 5., 3.], dtype=torch.float64) torch.Size([99466])\n"
     ]
    }
   ],
   "source": [
    "locations, values = init_interaction_edges(dataset, \"userId\", \"movieId\", \"rating\", 1)\n",
    "\n",
    "print(locations, locations.size())\n",
    "print(values, values.size())"
   ]
  },
  {
   "cell_type": "code",
   "execution_count": 4,
   "metadata": {},
   "outputs": [
    {
     "name": "stdout",
     "output_type": "stream",
     "text": [
      "edges: 99466, nodes: 10334\n"
     ]
    }
   ],
   "source": [
    "num_interactions = values.shape[0]\n",
    "num_users = 610\n",
    "num_movies = 9724\n",
    "\n",
    "print(f\"edges: {num_interactions}, nodes: {num_movies+num_users}\")"
   ]
  },
  {
   "cell_type": "markdown",
   "metadata": {},
   "source": [
    "__Split into test, train, validation sets__"
   ]
  },
  {
   "cell_type": "code",
   "execution_count": 5,
   "metadata": {},
   "outputs": [
    {
     "name": "stdout",
     "output_type": "stream",
     "text": [
      "train: 79573 interactions\n",
      "test: 9947 interactions\n",
      "validation: 9946 interactions\n"
     ]
    }
   ],
   "source": [
    "indices = list(range(num_interactions))\n",
    "\n",
    "generator = Generator().manual_seed(42)\n",
    "train_set, test_set, valid_set = random_split(indices, [0.8, 0.1, 0.1], generator=generator)\n",
    "\n",
    "print(f\"train: {len(train_set)} interactions\")\n",
    "print(f\"test: {len(test_set)} interactions\")\n",
    "print(f\"validation: {len(valid_set)} interactions\")"
   ]
  },
  {
   "cell_type": "code",
   "execution_count": 6,
   "metadata": {},
   "outputs": [
    {
     "name": "stdout",
     "output_type": "stream",
     "text": [
      "tensor([[ 473,  186,  595,  ...,  306,  274,  218],\n",
      "        [3377, 6019, 7022,  ..., 3283, 2145, 1145]]) torch.Size([2, 79573])\n",
      "tensor([2.5000, 4.0000, 3.5000,  ..., 4.0000, 4.0000, 2.5000],\n",
      "       dtype=torch.float64) torch.Size([79573])\n"
     ]
    }
   ],
   "source": [
    "train_indices = locations[:, train_set]\n",
    "train_values = values[train_set]\n",
    "\n",
    "test_indices = locations[:, test_set]\n",
    "test_values = values[test_set]\n",
    "\n",
    "valid_indices = locations[:, valid_set]\n",
    "valid_values = values[valid_set]\n",
    "\n",
    "print(train_indices, train_indices.size())\n",
    "print(train_values, train_values.size())"
   ]
  },
  {
   "cell_type": "code",
   "execution_count": 7,
   "metadata": {},
   "outputs": [
    {
     "name": "stdout",
     "output_type": "stream",
     "text": [
      "torch.Size([2, 159146])\n",
      "torch.Size([2, 19894])\n",
      "torch.Size([2, 19892])\n"
     ]
    }
   ],
   "source": [
    "train_ind, train_val = convert_to_adj_matrix(train_indices, num_users, num_movies, train_values)\n",
    "test_ind, test_val = convert_to_adj_matrix(test_indices, num_users, num_movies, test_values)\n",
    "validation_ind, validation_val = convert_to_adj_matrix(valid_indices, num_users, num_movies, valid_values)\n",
    "\n",
    "print(train_ind.size())\n",
    "print(test_ind.size())\n",
    "print(validation_ind.size())"
   ]
  },
  {
   "cell_type": "markdown",
   "metadata": {},
   "source": [
    "__Train the model__"
   ]
  },
  {
   "cell_type": "code",
   "execution_count": 13,
   "metadata": {},
   "outputs": [
    {
     "name": "stdout",
     "output_type": "stream",
     "text": [
      "(tensor([[   0,    0,    0,  ...,  609,  609,  609],\n",
      "        [   0,    2,    5,  ..., 9444, 9445, 9485]]), tensor([0.0047, 0.0096, 0.0068,  ..., 0.0592, 0.0459, 0.1325]))\n"
     ]
    }
   ],
   "source": [
    "# users = max(test_ind[0].unique())+1\n",
    "# movies = max(test_ind[1].unique())+1\n",
    "\n",
    "# U = build_interaction_matrix_from_edges(test_ind, users, movies, test_val, use_value=False)\n",
    "# I = build_interaction_matrix_from_edges(test_ind, movies, users, test_val, use_value=False)\n",
    "# D_u = torch.diag(torch.sum(U, dim=1))\n",
    "# D_i = torch.diag(torch.sum(I, dim=1))\n",
    "\n",
    "# Di_inv_sqrt = torch.pow(D_i, -0.5)\n",
    "# Di_inv_sqrt = torch.where(Di_inv_sqrt == float('inf'), 0, Di_inv_sqrt)\n",
    "\n",
    "# Du_inv_sqrt = torch.pow(D_u, -0.5)\n",
    "# Du_inv_sqrt = torch.where(Du_inv_sqrt == float('inf'), 0, Du_inv_sqrt)\n",
    "\n",
    "# A_tilde = torch.mm(Di_inv_sqrt, I)\n",
    "# A_tilde = torch.mm(A_tilde, Du_inv_sqrt)\n",
    "\n",
    "print(gcn_norm(locations, add_self_loops=False))"
   ]
  }
 ],
 "metadata": {
  "kernelspec": {
   "display_name": "Python 3",
   "language": "python",
   "name": "python3"
  },
  "language_info": {
   "codemirror_mode": {
    "name": "ipython",
    "version": 3
   },
   "file_extension": ".py",
   "mimetype": "text/x-python",
   "name": "python",
   "nbconvert_exporter": "python",
   "pygments_lexer": "ipython3",
   "version": "3.11.7"
  }
 },
 "nbformat": 4,
 "nbformat_minor": 2
}
